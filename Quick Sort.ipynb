{
 "cells": [
  {
   "cell_type": "markdown",
   "id": "a813d105",
   "metadata": {},
   "source": [
    "# Quick Sort"
   ]
  },
  {
   "cell_type": "code",
   "execution_count": 1,
   "id": "92e15846",
   "metadata": {},
   "outputs": [],
   "source": [
    "def pivot(array, start, end):\n",
    " \n",
    "    #initializing \n",
    "    pivot = array[start]\n",
    "    low = start + 1\n",
    "    high = end\n",
    " \n",
    " \n",
    "    while True:\n",
    "   \n",
    "        while low <= high and array[high] >= pivot:     #moving high towards left\n",
    "            high = high - 1\n",
    "            \n",
    "        while low <= high and array[low] <= pivot:      #moving low towards right \n",
    "            low = low + 1\n",
    "   \n",
    "        if low <= high:                                 #checking if low and high have crossed\n",
    "                                                   \n",
    "            array[low], array[high] = array[high], array[low]  #swapping values to rearrange\n",
    "        else:\n",
    "            #breaking out of the loop if low > high\n",
    "            break\n",
    " \n",
    "    #swapping pivot with high so that pivot is at its right # #position \n",
    "    array[start], array[high] = array[high], array[start]\n",
    " \n",
    "    #returning pivot position\n",
    "    return high"
   ]
  },
  {
   "cell_type": "code",
   "execution_count": 2,
   "id": "e111d5e4",
   "metadata": {},
   "outputs": [
    {
     "name": "stdout",
     "output_type": "stream",
     "text": [
      "Pivot 5\n",
      "left : [1, 2, 2, 3, 2]\n",
      "right : [8, 8, 9, 8, 6, 7]\n",
      "\n",
      "\n",
      "Pivot 1\n",
      "left : []\n",
      "right : [2, 2, 3, 2]\n",
      "\n",
      "\n",
      "Pivot 2\n",
      "left : []\n",
      "right : [2, 3, 2]\n",
      "\n",
      "\n",
      "Pivot 2\n",
      "left : []\n",
      "right : [3, 2]\n",
      "\n",
      "\n",
      "Pivot 3\n",
      "left : [2]\n",
      "right : []\n",
      "\n",
      "\n",
      "Pivot 8\n",
      "left : [6, 8, 7, 8]\n",
      "right : [9]\n",
      "\n",
      "\n",
      "Pivot 6\n",
      "left : []\n",
      "right : [8, 7, 8]\n",
      "\n",
      "\n",
      "Pivot 8\n",
      "left : [7]\n",
      "right : [8]\n",
      "\n",
      "\n",
      "[1, 2, 2, 2, 3, 5, 6, 7, 8, 8, 8, 9]\n"
     ]
    }
   ],
   "source": [
    "def quick_sort(array, start, end):\n",
    "    if start >= end:\n",
    "        return\n",
    " \n",
    "    p = pivot(array, start, end)\n",
    "    print(\"Pivot\",array[p])\n",
    "    print(\"left :\", array[start:p])\n",
    "    print(\"right :\",array[p+1:end+1])\n",
    "    print(\"\\n\")\n",
    "    quick_sort(array, start, p-1)\n",
    "    quick_sort(array, p+1, end)\n",
    "    \n",
    "array = [5,2,6,8,2,8,1,3,9,8,2,7]\n",
    " \n",
    "quick_sort(array, 0, len(array) - 1)\n",
    "print(array)"
   ]
  },
  {
   "cell_type": "code",
   "execution_count": null,
   "id": "70481967",
   "metadata": {},
   "outputs": [],
   "source": []
  }
 ],
 "metadata": {
  "kernelspec": {
   "display_name": "Python 3 (ipykernel)",
   "language": "python",
   "name": "python3"
  },
  "language_info": {
   "codemirror_mode": {
    "name": "ipython",
    "version": 3
   },
   "file_extension": ".py",
   "mimetype": "text/x-python",
   "name": "python",
   "nbconvert_exporter": "python",
   "pygments_lexer": "ipython3",
   "version": "3.10.5"
  }
 },
 "nbformat": 4,
 "nbformat_minor": 5
}
